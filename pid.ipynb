{
 "cells": [
  {
   "cell_type": "code",
   "execution_count": 1,
   "metadata": {
    "collapsed": true
   },
   "outputs": [],
   "source": [
    "import pandas as pd\n",
    "import numpy as np\n",
    "import tensorflow as tf\n",
    "import xgboost as xgb\n",
    "import matplotlib.pyplot as plt\n",
    "import seaborn as sns\n",
    "color = sns.color_palette()\n",
    "import warnings\n",
    "def ignore_warn(*args, **kwargs):\n",
    "    pass\n",
    "warnings.warn = ignore_warn #ignore annoying warning (from sklearn and seaborn)\n",
    "\n",
    "from sklearn.linear_model import ElasticNet, Lasso,  BayesianRidge, LassoLarsIC,Ridge,LogisticRegression\n",
    "from sklearn.ensemble import RandomForestClassifier,  GradientBoostingClassifier\n",
    "from sklearn.kernel_ridge import KernelRidge\n",
    "from sklearn.pipeline import make_pipeline\n",
    "from sklearn.svm import SVC\n",
    "from sklearn.preprocessing import RobustScaler\n",
    "from sklearn.base import BaseEstimator, TransformerMixin, RegressorMixin, clone\n",
    "from sklearn.model_selection import KFold, cross_val_score, train_test_split\n",
    "import xgboost as xgb\n",
    "import lightgbm as lgb\n",
    "from catboost import Pool, CatBoostRegressor"
   ]
  },
  {
   "cell_type": "markdown",
   "metadata": {},
   "source": [
    "不同的带电粒子在磁场中运动的轨迹参数和在探测器中留下的信息是不一样的。\n",
    "本项目是利用利用粒子在探测器中的飞行信息和击中信息，对粒子种类进行鉴别。待鉴别粒子种类为$\\pi$介子(pion),K介子(kaon)，质子(proton)。对应标签为Type：0,1,2"
   ]
  },
  {
   "cell_type": "code",
   "execution_count": 2,
   "metadata": {},
   "outputs": [
    {
     "name": "stdout",
     "output_type": "stream",
     "text": [
      "(30000, 12)\n",
      "(9000, 12)\n"
     ]
    }
   ],
   "source": [
    "train_pi = pd.read_csv('Pi.dat',header=None,sep=' ')\n",
    "train_k = pd.read_csv('K.dat',header=None,sep=' ')\n",
    "train_p = pd.read_csv('Proton.dat',header=None,sep=' ')\n",
    "\n",
    "test_pi = pd.read_csv('test/Pi.dat',header=None,sep=' ')\n",
    "test_k = pd.read_csv('test/K.dat',header=None,sep=' ')\n",
    "test_p = pd.read_csv('test/Proton.dat',header=None,sep=' ')\n",
    "\n",
    "train_tot = pd.concat((train_pi,train_k,train_p))\n",
    "test_tot = pd.concat((test_pi,test_k,test_p))\n",
    "\n",
    "\n",
    "train_tot.columns=['P','CosTheta','CosPhi','PH','GoodHit','Tof','E','Eseed','E3x3','E5x5','secp','Type']\n",
    "test_tot.columns=['P','CosTheta','CosPhi','PH','GoodHit','Tof','E','Eseed','E3x3','E5x5','secp','Type']\n",
    "\n",
    "\n",
    "\n",
    "\n",
    "print(train_tot.shape)\n",
    "print(test_tot.shape)\n"
   ]
  },
  {
   "cell_type": "markdown",
   "metadata": {},
   "source": [
    "## 1.数据处理\n",
    "通过蒙特卡洛法产生3种粒子每种1万共3万个事例作为训练数据，每种3000共9000事例作为测试数据。共记录每个事例的11个参数，参数从左到右分别为\n",
    "动量（P），极角（CosTheta），方位角（CosPhi），脉冲信号（PH），信号击中数（GoodHit），飞行时间（Tof），能量（E），种子能量（Eseed），3x3晶格能量（E3x3），5x5晶格能量（E5x5），能量分布二阶矩（secp）\n",
    "\n",
    "#### 关于能量\n",
    "粒子能量是通过一个平面网格化的量能器来获取的，粒子击中一个晶格种子后，沉积下一部分能量，并且此能量会在周围的晶格扩散，因此会有种子能量、3x3晶格、5x5晶格的能量，能量二阶矩用于衡量扩散的范围。\n",
    "\n",
    "### 数据清洗\n",
    "首先观察一下各列数据的分布"
   ]
  },
  {
   "cell_type": "code",
   "execution_count": 3,
   "metadata": {},
   "outputs": [
    {
     "data": {
      "text/html": [
       "<div>\n",
       "<style scoped>\n",
       "    .dataframe tbody tr th:only-of-type {\n",
       "        vertical-align: middle;\n",
       "    }\n",
       "\n",
       "    .dataframe tbody tr th {\n",
       "        vertical-align: top;\n",
       "    }\n",
       "\n",
       "    .dataframe thead th {\n",
       "        text-align: right;\n",
       "    }\n",
       "</style>\n",
       "<table border=\"1\" class=\"dataframe\">\n",
       "  <thead>\n",
       "    <tr style=\"text-align: right;\">\n",
       "      <th></th>\n",
       "      <th>P</th>\n",
       "      <th>CosTheta</th>\n",
       "      <th>CosPhi</th>\n",
       "      <th>PH</th>\n",
       "      <th>GoodHit</th>\n",
       "      <th>Tof</th>\n",
       "      <th>E</th>\n",
       "      <th>Eseed</th>\n",
       "      <th>E3x3</th>\n",
       "      <th>E5x5</th>\n",
       "      <th>secp</th>\n",
       "      <th>Type</th>\n",
       "    </tr>\n",
       "  </thead>\n",
       "  <tbody>\n",
       "    <tr>\n",
       "      <th>count</th>\n",
       "      <td>30000.000000</td>\n",
       "      <td>30000.000000</td>\n",
       "      <td>30000.000000</td>\n",
       "      <td>30000.000000</td>\n",
       "      <td>30000.000000</td>\n",
       "      <td>30000.000000</td>\n",
       "      <td>30000.000000</td>\n",
       "      <td>30000.000000</td>\n",
       "      <td>30000.000000</td>\n",
       "      <td>30000.000000</td>\n",
       "      <td>30000.000000</td>\n",
       "      <td>30000.00000</td>\n",
       "    </tr>\n",
       "    <tr>\n",
       "      <th>mean</th>\n",
       "      <td>0.668439</td>\n",
       "      <td>0.002645</td>\n",
       "      <td>0.013356</td>\n",
       "      <td>665.216982</td>\n",
       "      <td>24.926700</td>\n",
       "      <td>557.878106</td>\n",
       "      <td>0.266209</td>\n",
       "      <td>0.133144</td>\n",
       "      <td>0.204551</td>\n",
       "      <td>0.221745</td>\n",
       "      <td>15.608768</td>\n",
       "      <td>1.00000</td>\n",
       "    </tr>\n",
       "    <tr>\n",
       "      <th>std</th>\n",
       "      <td>0.212842</td>\n",
       "      <td>0.515939</td>\n",
       "      <td>0.705820</td>\n",
       "      <td>373.651215</td>\n",
       "      <td>3.743411</td>\n",
       "      <td>2285.722725</td>\n",
       "      <td>0.132361</td>\n",
       "      <td>0.071819</td>\n",
       "      <td>0.113894</td>\n",
       "      <td>0.129649</td>\n",
       "      <td>15.240440</td>\n",
       "      <td>0.81651</td>\n",
       "    </tr>\n",
       "    <tr>\n",
       "      <th>min</th>\n",
       "      <td>0.166529</td>\n",
       "      <td>-0.937174</td>\n",
       "      <td>-0.999999</td>\n",
       "      <td>284.333000</td>\n",
       "      <td>2.000000</td>\n",
       "      <td>-38.016000</td>\n",
       "      <td>0.009426</td>\n",
       "      <td>0.006006</td>\n",
       "      <td>0.007086</td>\n",
       "      <td>0.009304</td>\n",
       "      <td>0.022062</td>\n",
       "      <td>0.00000</td>\n",
       "    </tr>\n",
       "    <tr>\n",
       "      <th>25%</th>\n",
       "      <td>0.522583</td>\n",
       "      <td>-0.431418</td>\n",
       "      <td>-0.692221</td>\n",
       "      <td>432.919250</td>\n",
       "      <td>24.000000</td>\n",
       "      <td>3.440852</td>\n",
       "      <td>0.184178</td>\n",
       "      <td>0.083327</td>\n",
       "      <td>0.134869</td>\n",
       "      <td>0.144621</td>\n",
       "      <td>5.186290</td>\n",
       "      <td>0.00000</td>\n",
       "    </tr>\n",
       "    <tr>\n",
       "      <th>50%</th>\n",
       "      <td>0.692846</td>\n",
       "      <td>0.000306</td>\n",
       "      <td>0.030577</td>\n",
       "      <td>540.532000</td>\n",
       "      <td>25.000000</td>\n",
       "      <td>4.305650</td>\n",
       "      <td>0.233632</td>\n",
       "      <td>0.121662</td>\n",
       "      <td>0.182061</td>\n",
       "      <td>0.191234</td>\n",
       "      <td>11.654300</td>\n",
       "      <td>1.00000</td>\n",
       "    </tr>\n",
       "    <tr>\n",
       "      <th>75%</th>\n",
       "      <td>0.845844</td>\n",
       "      <td>0.445677</td>\n",
       "      <td>0.714956</td>\n",
       "      <td>790.393000</td>\n",
       "      <td>27.000000</td>\n",
       "      <td>5.409830</td>\n",
       "      <td>0.333184</td>\n",
       "      <td>0.172164</td>\n",
       "      <td>0.265010</td>\n",
       "      <td>0.287990</td>\n",
       "      <td>22.581975</td>\n",
       "      <td>2.00000</td>\n",
       "    </tr>\n",
       "    <tr>\n",
       "      <th>max</th>\n",
       "      <td>0.999993</td>\n",
       "      <td>0.940299</td>\n",
       "      <td>1.000000</td>\n",
       "      <td>8346.460000</td>\n",
       "      <td>36.000000</td>\n",
       "      <td>9999.000000</td>\n",
       "      <td>0.996383</td>\n",
       "      <td>0.868196</td>\n",
       "      <td>0.898794</td>\n",
       "      <td>0.935662</td>\n",
       "      <td>372.488000</td>\n",
       "      <td>2.00000</td>\n",
       "    </tr>\n",
       "  </tbody>\n",
       "</table>\n",
       "</div>"
      ],
      "text/plain": [
       "                  P      CosTheta        CosPhi            PH       GoodHit  \\\n",
       "count  30000.000000  30000.000000  30000.000000  30000.000000  30000.000000   \n",
       "mean       0.668439      0.002645      0.013356    665.216982     24.926700   \n",
       "std        0.212842      0.515939      0.705820    373.651215      3.743411   \n",
       "min        0.166529     -0.937174     -0.999999    284.333000      2.000000   \n",
       "25%        0.522583     -0.431418     -0.692221    432.919250     24.000000   \n",
       "50%        0.692846      0.000306      0.030577    540.532000     25.000000   \n",
       "75%        0.845844      0.445677      0.714956    790.393000     27.000000   \n",
       "max        0.999993      0.940299      1.000000   8346.460000     36.000000   \n",
       "\n",
       "                Tof             E         Eseed          E3x3          E5x5  \\\n",
       "count  30000.000000  30000.000000  30000.000000  30000.000000  30000.000000   \n",
       "mean     557.878106      0.266209      0.133144      0.204551      0.221745   \n",
       "std     2285.722725      0.132361      0.071819      0.113894      0.129649   \n",
       "min      -38.016000      0.009426      0.006006      0.007086      0.009304   \n",
       "25%        3.440852      0.184178      0.083327      0.134869      0.144621   \n",
       "50%        4.305650      0.233632      0.121662      0.182061      0.191234   \n",
       "75%        5.409830      0.333184      0.172164      0.265010      0.287990   \n",
       "max     9999.000000      0.996383      0.868196      0.898794      0.935662   \n",
       "\n",
       "               secp         Type  \n",
       "count  30000.000000  30000.00000  \n",
       "mean      15.608768      1.00000  \n",
       "std       15.240440      0.81651  \n",
       "min        0.022062      0.00000  \n",
       "25%        5.186290      0.00000  \n",
       "50%       11.654300      1.00000  \n",
       "75%       22.581975      2.00000  \n",
       "max      372.488000      2.00000  "
      ]
     },
     "execution_count": 3,
     "metadata": {},
     "output_type": "execute_result"
    }
   ],
   "source": [
    "train_tot.describe()"
   ]
  },
  {
   "cell_type": "markdown",
   "metadata": {},
   "source": [
    "下边画一下各个变量的分布情况"
   ]
  },
  {
   "cell_type": "code",
   "execution_count": 4,
   "metadata": {},
   "outputs": [
    {
     "data": {
      "text/plain": [
       "<matplotlib.legend.Legend at 0x132c59250>"
      ]
     },
     "execution_count": 4,
     "metadata": {},
     "output_type": "execute_result"
    },
    {
     "data": {
      "image/png": "[encoded data removed]",
      "text/plain": [
       "<Figure size 1800x1080 with 9 Axes>"
      ]
     },
     "metadata": {
      "needs_background": "light"
     },
     "output_type": "display_data"
    }
   ],
   "source": [
    "plt.figure(figsize=(25,15))\n",
    "plt.subplots_adjust(wspace =0.5, hspace =0.5)#调整子图间距\n",
    "plt.subplot(331)\n",
    "sns.distplot(train_tot.loc[train_tot['Type']==0,'P'],label=u'pion')\n",
    "sns.distplot(train_tot.loc[train_tot['Type']==1,'P'],label=u'kaon')\n",
    "sns.distplot(train_tot.loc[train_tot['Type']==2,'P'],label=u'proton')\n",
    "\n",
    "plt.legend(loc='best')\n",
    "\n",
    "plt.subplot(332)\n",
    "sns.distplot(train_tot.loc[train_tot['Type']==0,'CosTheta'],label=u'pion')\n",
    "sns.distplot(train_tot.loc[train_tot['Type']==1,'CosTheta'],label=u'kaon')\n",
    "sns.distplot(train_tot.loc[train_tot['Type']==2,'CosTheta'],label=u'proton')\n",
    "\n",
    "plt.legend(loc='best')\n",
    "\n",
    "plt.subplot(333)\n",
    "sns.distplot(train_tot.loc[train_tot['Type']==0,'CosPhi'],label=u'pion')\n",
    "sns.distplot(train_tot.loc[train_tot['Type']==1,'CosPhi'],label=u'kaon')\n",
    "sns.distplot(train_tot.loc[train_tot['Type']==2,'CosPhi'],label=u'proton')\n",
    "\n",
    "plt.legend(loc='best')\n",
    "\n",
    "plt.subplot(334)\n",
    "sns.distplot(train_tot.loc[train_tot['Type']==0,'PH'],label=u'pion')\n",
    "sns.distplot(train_tot.loc[train_tot['Type']==1,'PH'],label=u'kaon')\n",
    "sns.distplot(train_tot.loc[train_tot['Type']==2,'PH'],label=u'proton')\n",
    "\n",
    "plt.legend(loc='best')\n",
    "\n",
    "plt.subplot(335)\n",
    "sns.distplot(train_tot.loc[train_tot['Type']==0,'GoodHit'],label=u'pion')\n",
    "sns.distplot(train_tot.loc[train_tot['Type']==1,'GoodHit'],label=u'kaon')\n",
    "sns.distplot(train_tot.loc[train_tot['Type']==2,'GoodHit'],label=u'proton')\n",
    "\n",
    "plt.legend(loc='best')\n",
    "\n",
    "plt.subplot(336)\n",
    "sns.distplot(train_tot.loc[train_tot['Type']==0,'Tof'],label=u'pion')\n",
    "sns.distplot(train_tot.loc[train_tot['Type']==1,'Tof'],label=u'kaon')\n",
    "sns.distplot(train_tot.loc[train_tot['Type']==2,'Tof'],label=u'proton')\n",
    "\n",
    "plt.legend(loc='best')\n",
    "\n",
    "plt.subplot(337)\n",
    "sns.distplot(train_tot.loc[train_tot['Type']==0,'E'],label=u'pion')\n",
    "sns.distplot(train_tot.loc[train_tot['Type']==1,'E'],label=u'kaon')\n",
    "sns.distplot(train_tot.loc[train_tot['Type']==2,'E'],label=u'proton')\n",
    "\n",
    "plt.legend(loc='best')\n",
    "\n",
    "plt.subplot(338)\n",
    "sns.distplot(train_tot.loc[train_tot['Type']==0,'Eseed'],label=u'pion')\n",
    "sns.distplot(train_tot.loc[train_tot['Type']==1,'Eseed'],label=u'kaon')\n",
    "sns.distplot(train_tot.loc[train_tot['Type']==2,'Eseed'],label=u'proton')\n",
    "\n",
    "plt.legend(loc='best')\n",
    "\n",
    "plt.subplot(339)\n",
    "sns.distplot(train_tot.loc[train_tot['Type']==0,'secp'],label=u'pion')\n",
    "sns.distplot(train_tot.loc[train_tot['Type']==1,'secp'],label=u'kaon')\n",
    "sns.distplot(train_tot.loc[train_tot['Type']==2,'secp'],label=u'proton')\n",
    "\n",
    "plt.legend(loc='best')"
   ]
  },
  {
   "cell_type": "markdown",
   "metadata": {},
   "source": [
    "可以看到有些特征对分类的影响还是很高的，比如能量E，Eseed，PH。\n",
    "\n",
    "有些特征是存在异常值的，比如飞行时间Tof，脉冲高度PH以及secp等，之后会对这些特征进行进一步处理，提高分类准确度。\n",
    "\n"
   ]
  },
  {
   "cell_type": "markdown",
   "metadata": {},
   "source": [
    "### 异常值处理\n",
    "\n",
    "\n",
    "\n",
    "首先我们处理飞行时间Tof，\n",
    "从Tof的大致分布可以看到，飞行时间基本上处于(2-10)区间，而根据上图又有很多事例其飞行时间固定在9999。因此需要分别对这几种情况进行处理。\n",
    "\n",
    "首先对于值小于0时，可以认为是探测器计算此值时出现异常，因为飞行时间一定是大于0的，出现这种情况的事例少于1%，\n",
    "\n",
    "飞行时间大于15的事例也可以认为是异常事例，总数约占0.3%。\n",
    "\n",
    "最后是飞行时间为9999的，这种事例占比超过5%。查看原始数据发现，这些事例是由于粒子没有击中飞行时间探测器造成的(因为探测器是有缝隙，粒子可能从缝隙中飞出)。对于这种存在大量异常值的数据，可以有以下几种处理方法：\n",
    ">* 1.不处理，这种方法可以避免引入噪声。有些模型能够自动对这些异常值处理得好，有些对距离敏感的分类器则会导致性能下降(如KNN)\n",
    ">* 2.直接填充均值，这种方法十分简单，但是可能会引入噪声，改变填充后的数据分布\n",
    ">* 3.热卡填补，此法是在完整数据中找一个与其最相似的对象，并用其值来填充。此法主观性较强，因此需要自行挑选用哪些特征来进行匹配，但是如果对数据的类型比较熟悉的话，此法会比较有效，因此下边将会用此法进行异常值校正。\n",
    ">* 4.拟合，利用其他变量对异常值进行预测，此法与正常建模方法一样，只是目标变量变为预测值。但是这种方法得出的值可能会对最后的建模起不到太大作用，因为此预测值必然与其他特征相关性较高。\n"
   ]
  },
  {
   "cell_type": "code",
   "execution_count": 5,
   "metadata": {},
   "outputs": [
    {
     "name": "stdout",
     "output_type": "stream",
     "text": [
      "Tof<0 数据占比:  0.0002\n",
      "15<Tof<9999 数据占比:  0.0026333333333333334\n",
      "Tof==9999 数据占比:  0.05536666666666667\n"
     ]
    },
    {
     "data": {
      "image/png": "[encoded data removed]",
      "text/plain": [
       "<Figure size 432x288 with 1 Axes>"
      ]
     },
     "metadata": {
      "needs_background": "light"
     },
     "output_type": "display_data"
    }
   ],
   "source": [
    "sns.distplot(train_tot.loc[((train_tot['Tof']<15)&(train_tot['Tof']>0)),'Tof'])\n",
    "#plt.show()\n",
    "print(\"Tof<0 数据占比: \", train_tot[train_tot['Tof']<=0].count()[0]/train_tot.shape[0])\n",
    "print(\"15<Tof<9999 数据占比: \",train_tot.loc[(train_tot['Tof']>15)&(train_tot['Tof']<9999)].count()[0]/train_tot.shape[0])\n",
    "print(\"Tof==9999 数据占比: \",train_tot[train_tot['Tof']==9999].count()[0]/train_tot.shape[0])"
   ]
  },
  {
   "cell_type": "markdown",
   "metadata": {},
   "source": [
    "在此处我决定用动量P和极角CosTheta来匹配对应的飞行时间，因为飞行时间必然与粒子的速度(动量)和飞行距离相关，而由于探测器是圆柱体结构，所以粒子出射角度(CosTheta)与飞行距离相关。\n",
    "匹配方法为：将动量P和极角CosTheta各分成5个区间，总共有25个子区间。求出每个区间粒子的Tof中位数。将Tof异常值的事例根据其动量和极角匹配到区间中的Tof值"
   ]
  },
  {
   "cell_type": "code",
   "execution_count": 6,
   "metadata": {
    "collapsed": true
   },
   "outputs": [],
   "source": [
    "\n",
    "guess_TOF=np.zeros((5,5))\n",
    "step_P=(train_tot['P'].max()-train_tot['P'].min())/5\n",
    "step_Cos=(train_tot['CosTheta'].max()-train_tot['CosTheta'].min())/5\n",
    "\n",
    "MinP=train_tot['P'].min()\n",
    "MinC=train_tot['CosTheta'].min()\n",
    "\n",
    "#填充25个小区间里Tof的中位数\n",
    "for i in range(0,5):\n",
    "    for j in range(0,5):\n",
    "        guess_data=train_tot[(train_tot['P']>=MinP+(i*step_P))&(train_tot['P']<MinP+(i+1)*step_P)\n",
    "                        &(train_tot['CosTheta']>=MinC+j*step_Cos)&(train_tot['CosTheta']<MinC+(j+1)*step_Cos)\n",
    "                        ]['Tof'].median()\n",
    "        \n",
    "        guess_TOF[i,j]=guess_data\n",
    "        #print(guess_data)\n",
    "        \n",
    "combine = [train_tot,test_tot]\n",
    "for data in combine:\n",
    "\n",
    "    for i in range(0,5):\n",
    "        for j in range(0,5):\n",
    "            data.loc[(data['P']>=MinP+(i*step_P))&(data['P']<MinP+(i+1)*step_P)\n",
    "            &(data['CosTheta']>=MinC+j*step_Cos)&(data['CosTheta']<MinC+(j+1)*step_Cos)\n",
    "             &((data['Tof']>15)|(data['Tof']<0)),'Tof']=guess_TOF[i,j]\n",
    "            #print(guess_TOF[i,j])\n",
    "      \n"
   ]
  },
  {
   "cell_type": "markdown",
   "metadata": {},
   "source": [
    "由之前的分布图可以看到，PH，TOF，secp是有一些数据异常偏高，为了修正该情况，首先看看正常区间下它们的分布"
   ]
  },
  {
   "cell_type": "code",
   "execution_count": 7,
   "metadata": {},
   "outputs": [
    {
     "name": "stdout",
     "output_type": "stream",
     "text": [
      "PH异常分布事例占比： 0.0047\n",
      "secp异常分布事例占比： 0.0015\n"
     ]
    }
   ],
   "source": [
    "PH_mean = train_tot['PH'].mean()\n",
    "PH_std  = train_tot['PH'].std()\n",
    "secp_mean = train_tot['secp'].mean()\n",
    "secp_std = train_tot['secp'].std()\n",
    "print(\"PH异常分布事例占比：\",train_tot[train_tot['PH']>PH_mean+5*PH_std].shape[0]/train_tot.shape[0])\n",
    "print(\"secp异常分布事例占比：\",train_tot[train_tot['secp']>secp_mean+5*secp_std].shape[0]/train_tot.shape[0])\n"
   ]
  },
  {
   "cell_type": "markdown",
   "metadata": {},
   "source": [
    "可以看到PH和secp分布异常事例占比不多，分别约0.4%和0.02%。下边先看看热力图，观察这两者与哪些变量相关性较高。"
   ]
  },
  {
   "cell_type": "code",
   "execution_count": 8,
   "metadata": {},
   "outputs": [
    {
     "data": {
      "text/plain": [
       "<matplotlib.axes._subplots.AxesSubplot at 0x12de41250>"
      ]
     },
     "execution_count": 8,
     "metadata": {},
     "output_type": "execute_result"
    },
    {
     "data": {
      "image/png": "[encoded data removed]",
      "text/plain": [
       "<Figure size 864x648 with 2 Axes>"
      ]
     },
     "metadata": {
      "needs_background": "light"
     },
     "output_type": "display_data"
    }
   ],
   "source": [
    "corrmat = abs(train_tot.corr())\n",
    "plt.subplots(figsize=(12,9))\n",
    "sns.heatmap(corrmat, vmax=0.9, square=True)"
   ]
  },
  {
   "cell_type": "code",
   "execution_count": 9,
   "metadata": {},
   "outputs": [
    {
     "name": "stdout",
     "output_type": "stream",
     "text": [
      "PH 相关性较高的列：\n",
      " PH      1.000000\n",
      "Type    0.543523\n",
      "Tof     0.506949\n",
      "E5x5    0.336982\n",
      "E3x3    0.332814\n",
      "Name: PH, dtype: float64\n",
      "\n",
      " secp 相关性较高的列：\n",
      " secp    1.000000\n",
      "E5x5    0.369809\n",
      "E       0.357474\n",
      "Type    0.314586\n",
      "E3x3    0.216369\n",
      "Name: secp, dtype: float64\n"
     ]
    }
   ],
   "source": [
    "print(\"PH 相关性较高的列：\\n\",abs(train_tot.corr()['PH']).sort_values(ascending=False)[0:5])\n",
    "print(\"\\n secp 相关性较高的列：\\n\",abs(train_tot.corr()['secp']).sort_values(ascending=False)[0:5])"
   ]
  },
  {
   "cell_type": "markdown",
   "metadata": {},
   "source": [
    "从相关性矩阵可以看到，E，Eseed，E3x3，E5x5这三者相关性是很高的。之后可以考虑删除Eseed，E3x3,E5x5三列\n",
    "\n",
    "PH与Tof的相关性比较高，可以用他们的相关性来填充PH的异常值\n",
    "\n",
    "E与secp的相关性较高，可以用他们的相关性来填充secp的异常值"
   ]
  },
  {
   "cell_type": "code",
   "execution_count": 10,
   "metadata": {
    "collapsed": true
   },
   "outputs": [],
   "source": [
    "train_tot.drop(['Eseed','E3x3','E5x5'],axis=1,inplace=True)\n",
    "test_tot.drop(['Eseed','E3x3','E5x5'],axis=1,inplace=True)"
   ]
  },
  {
   "cell_type": "code",
   "execution_count": 11,
   "metadata": {
    "collapsed": true
   },
   "outputs": [],
   "source": [
    "\n",
    "guess_PH=np.zeros((5))\n",
    "step_Tof=(train_tot['Tof'].max()-train_tot['Tof'].min())/5\n",
    "\n",
    "MinTof=train_tot['Tof'].min()\n",
    "\n",
    "for i in range(0,5):\n",
    "    guess_data=train_tot[(train_tot['Tof']>=MinTof+(i*step_Tof))&(train_tot['Tof']<MinTof+(i+1)*step_Tof)\n",
    "                    ]['PH'].median()\n",
    "        \n",
    "    guess_PH[i]=guess_data\n",
    "        \n",
    "combine = [train_tot,test_tot]\n",
    "for data in combine:\n",
    "    for i in range(0,5):\n",
    "        data.loc[(data['Tof']>=MinTof+(i*step_Tof))&(data['Tof']<MinTof+(i+1)*step_Tof)\n",
    "         &((data['PH']>PH_mean+5*PH_std)),'PH']=guess_PH[i]\n",
    "            #print(guess_TOF[i,j])\n",
    "      \n"
   ]
  },
  {
   "cell_type": "code",
   "execution_count": 12,
   "metadata": {
    "collapsed": true
   },
   "outputs": [],
   "source": [
    "\n",
    "guess_secp=np.zeros((5))\n",
    "step_E=(train_tot['E'].max()-train_tot['E'].min())/5\n",
    "\n",
    "MinE=train_tot['E'].min()\n",
    "\n",
    "for i in range(0,5):\n",
    "    guess_data=train_tot[(train_tot['E']>=MinE+(i*step_E))&(train_tot['E']<MinE+(i+1)*step_E)\n",
    "                    ]['secp'].median()\n",
    "        \n",
    "    guess_secp[i]=guess_data\n",
    "    #print(guess_secp)\n",
    "        \n",
    "combine = [train_tot,test_tot]\n",
    "for data in combine:\n",
    "    for i in range(0,5):\n",
    "        data.loc[(data['E']>=MinE+(i*step_E))&(data['E']<MinE+(i+1)*step_E)\n",
    "         &((data['secp']>secp_mean+5*secp_std)),'secp']=guess_secp[i]\n",
    "            #print(guess_TOF[i,j])\n",
    "      \n"
   ]
  },
  {
   "cell_type": "code",
   "execution_count": 13,
   "metadata": {},
   "outputs": [
    {
     "data": {
      "text/plain": [
       "<matplotlib.axes._subplots.AxesSubplot at 0x131caead0>"
      ]
     },
     "execution_count": 13,
     "metadata": {},
     "output_type": "execute_result"
    },
    {
     "data": {
      "image/png": "[encoded data removed]",
      "text/plain": [
       "<Figure size 1800x1080 with 8 Axes>"
      ]
     },
     "metadata": {
      "needs_background": "light"
     },
     "output_type": "display_data"
    }
   ],
   "source": [
    "plt.figure(figsize=(25,15))\n",
    "plt.subplots_adjust(wspace =0.5, hspace =0.5)#调整子图间距\n",
    "plt.subplot(331)\n",
    "sns.distplot(train_tot['P'])\n",
    "\n",
    "plt.subplot(332)\n",
    "sns.distplot(train_tot['CosTheta'])\n",
    "\n",
    "\n",
    "\n",
    "plt.subplot(333)\n",
    "sns.distplot(train_tot['CosPhi'])\n",
    "\n",
    "\n",
    "plt.subplot(334)\n",
    "sns.distplot(train_tot['PH'])\n",
    "\n",
    "plt.subplot(335)\n",
    "sns.distplot(train_tot['GoodHit'])\n",
    "\n",
    "plt.subplot(336)\n",
    "sns.distplot(train_tot['Tof'])\n",
    "\n",
    "plt.subplot(337)\n",
    "sns.distplot(train_tot['E'])\n",
    "\n",
    "\n",
    "\n",
    "plt.subplot(338)\n",
    "sns.distplot(train_tot['secp'])\n",
    "\n"
   ]
  },
  {
   "cell_type": "markdown",
   "metadata": {},
   "source": [
    "可以看到调整异常数据之后所有分布都比较集中了。下一步将要调整一下数据的分布，可以看到有些列比如Tof，E，secp这些都是明显有偏度的，将他们的偏度减少可以有利于数据拟合"
   ]
  },
  {
   "cell_type": "code",
   "execution_count": 14,
   "metadata": {},
   "outputs": [
    {
     "data": {
      "text/plain": [
       "GoodHit    -2.048475\n",
       "P          -0.414503\n",
       "CosPhi     -0.027985\n",
       "CosTheta   -0.008726\n",
       "Type        0.000000\n",
       "E           1.124086\n",
       "Tof         1.287858\n",
       "secp        1.398650\n",
       "PH          1.749650\n",
       "dtype: float64"
      ]
     },
     "execution_count": 14,
     "metadata": {},
     "output_type": "execute_result"
    }
   ],
   "source": [
    "train_tot.skew().sort_values()"
   ]
  },
  {
   "cell_type": "markdown",
   "metadata": {},
   "source": [
    "下边会将偏度大于0.75的列通过变换尽量将偏度变回0，这里使用的是boxcox1p变换，详情可以查看http://onlinestatbook.com/2/transformations/box-cox.html \n",
    "\n",
    "通过不同的$\\lambda$值可以将列的偏度变换，因为每列的偏度都不一样，所以选取不同的$\\lambda$值，让其自行挑选合适的值。"
   ]
  },
  {
   "cell_type": "code",
   "execution_count": 15,
   "metadata": {},
   "outputs": [
    {
     "data": {
      "text/plain": [
       "E          0.087809\n",
       "PH         0.000000\n",
       "secp      -0.014843\n",
       "Tof       -0.037363\n",
       "GoodHit   -0.120666\n",
       "dtype: float64"
      ]
     },
     "execution_count": 15,
     "metadata": {},
     "output_type": "execute_result"
    }
   ],
   "source": [
    "skew_col=train_tot.skew()[abs(train_tot.skew())>0.75].index\n",
    "\n",
    "from scipy.special import boxcox1p\n",
    "lam = [-4,-3,-2,-1,0,0.1,0.2,0.3,0.5,0.8,1,2,3,4]\n",
    "for feat in skew_col:\n",
    "    skew_val = train_tot[feat].skew()\n",
    "    for val in lam:\n",
    "        train_ch = boxcox1p(train_tot[feat], val)\n",
    "        test_ch = boxcox1p(test_tot[feat], val)\n",
    "        if(abs(train_ch.skew())<abs(skew_val)):\n",
    "            skew_val = train_ch.skew()\n",
    "            train_value = train_ch\n",
    "            test_value = test_ch\n",
    "    train_tot[feat] = train_value\n",
    "    test_tot[feat] = test_value\n",
    "\n",
    "train_tot[skew_col].skew().sort_values(ascending=False)"
   ]
  },
  {
   "cell_type": "markdown",
   "metadata": {},
   "source": [
    "可以看到在变换之后，原先偏度较大的数据现在偏度基本都在0.1以下。"
   ]
  },
  {
   "cell_type": "markdown",
   "metadata": {},
   "source": [
    "# 2.建模\n",
    "\n",
    "数据清洗完毕之后就要开始建模了，打算使用几个不同的模型，利用sklearn里的GridSearch调参达到最高准确率之后，利用Stacking融合的方式获得最佳分类结果"
   ]
  },
  {
   "cell_type": "code",
   "execution_count": 16,
   "metadata": {
    "collapsed": true
   },
   "outputs": [],
   "source": [
    "from sklearn.linear_model import ElasticNet, Lasso,  BayesianRidge, LassoLarsIC,LogisticRegression\n",
    "from sklearn.ensemble import RandomForestRegressor,  GradientBoostingRegressor,GradientBoostingClassifier\n",
    "from sklearn.kernel_ridge import KernelRidge\n",
    "from sklearn.pipeline import make_pipeline\n",
    "from sklearn.preprocessing import RobustScaler\n",
    "from sklearn.base import BaseEstimator, TransformerMixin, RegressorMixin, clone\n",
    "from sklearn.model_selection import KFold, cross_val_score, train_test_split\n",
    "from sklearn.metrics import mean_squared_error,roc_curve\n",
    "import xgboost as xgb\n",
    "import sklearn\n",
    "import lightgbm as lgb\n",
    "from sklearn import metrics\n",
    "from sklearn.model_selection import GridSearchCV\n",
    "from sklearn.preprocessing import label_binarize\n",
    "\n",
    "\n",
    "\n"
   ]
  },
  {
   "cell_type": "code",
   "execution_count": 17,
   "metadata": {
    "collapsed": true
   },
   "outputs": [],
   "source": [
    "train_tot=train_tot.sample(frac=1)\n",
    "\n",
    "X_train = train_tot.drop(['Type'],axis = 1).values\n",
    "Y_train = train_tot[['Type']].values\n",
    "\n",
    "X_test = test_tot.drop(['Type'],axis = 1).values\n",
    "Y_test = test_tot[['Type']].values\n",
    "\n",
    "\n",
    "ro=RobustScaler()\n",
    "X_test_=ro.fit_transform(X_test)"
   ]
  },
  {
   "cell_type": "markdown",
   "metadata": {},
   "source": [
    "首先是XGBoost与LightGBM这两个集成方法。这些集成方法在调参时一般先将学习率调整得较高，使训练速度加快。调参的顺序一般为：\n",
    "\n",
    ">* 1.max_depth,min_child_weight。最大深度，叶节点最小权重\n",
    ">* 2.Gamma 节点分裂所需的最小损失函数下降值\n",
    ">* 3.subsample colsample_bytree每个树选取的样本比例和特征比例\n",
    ">* 4.reg_alpha reg_lambda 正则化参数\n",
    ">* 5.learning_rate 学习率\n",
    "\n",
    "在此处调参用的是sklearn内置的GridSearchCV模块，其可以指定需要调整的参数范围，并自动内置交叉验证来算出准确率最高的参数值。\n",
    "\n",
    "在进入训练前，首先要将数据进行归一化处理，此处用的归一化方式为RobustScaler，将数据减去均值，再除以标准差。其中均值和标准差都是用位于四分之一位数到四分之三位数之间的数据进行计算，有效防止离群点对样本的影响。\n",
    "\n",
    "此处归一化时采用sklearn内置的make_pipeline技术，可以看成是一个管道，将一些步骤进行打包处理。对于每种算法可能会有不同的预处理方法，采用pipeline可以有效防止原始数据被污染。"
   ]
  },
  {
   "cell_type": "code",
   "execution_count": 18,
   "metadata": {
    "scrolled": true
   },
   "outputs": [
    {
     "name": "stdout",
     "output_type": "stream",
     "text": [
      "Fitting 4 folds for each of 6 candidates, totalling 24 fits\n"
     ]
    },
    {
     "name": "stderr",
     "output_type": "stream",
     "text": [
      "[Parallel(n_jobs=-1)]: Using backend LokyBackend with 4 concurrent workers.\n",
      "[Parallel(n_jobs=-1)]: Done  24 out of  24 | elapsed:  2.5min finished\n"
     ]
    },
    {
     "name": "stdout",
     "output_type": "stream",
     "text": [
      "[0]\tvalidation_0-merror:0.044889\n",
      "Will train until validation_0-merror hasn't improved in 30 rounds.\n",
      "[1]\tvalidation_0-merror:0.045333\n",
      "[2]\tvalidation_0-merror:0.045\n",
      "[3]\tvalidation_0-merror:0.040444\n",
      "[4]\tvalidation_0-merror:0.039\n",
      "[5]\tvalidation_0-merror:0.038444\n",
      "[6]\tvalidation_0-merror:0.037111\n",
      "[7]\tvalidation_0-merror:0.036111\n",
      "[8]\tvalidation_0-merror:0.036333\n",
      "[9]\tvalidation_0-merror:0.035667\n",
      "[10]\tvalidation_0-merror:0.034889\n",
      "[11]\tvalidation_0-merror:0.035222\n",
      "[12]\tvalidation_0-merror:0.034222\n",
      "[13]\tvalidation_0-merror:0.034556\n",
      "[14]\tvalidation_0-merror:0.033889\n",
      "[15]\tvalidation_0-merror:0.033778\n",
      "[16]\tvalidation_0-merror:0.033\n",
      "[17]\tvalidation_0-merror:0.032667\n",
      "[18]\tvalidation_0-merror:0.032667\n",
      "[19]\tvalidation_0-merror:0.032778\n",
      "[20]\tvalidation_0-merror:0.032889\n",
      "[21]\tvalidation_0-merror:0.032556\n",
      "[22]\tvalidation_0-merror:0.032667\n",
      "[23]\tvalidation_0-merror:0.032444\n",
      "[24]\tvalidation_0-merror:0.032\n",
      "[25]\tvalidation_0-merror:0.032444\n",
      "[26]\tvalidation_0-merror:0.032333\n",
      "[27]\tvalidation_0-merror:0.032333\n",
      "[28]\tvalidation_0-merror:0.032\n",
      "[29]\tvalidation_0-merror:0.031667\n",
      "[30]\tvalidation_0-merror:0.031889\n",
      "[31]\tvalidation_0-merror:0.031333\n",
      "[32]\tvalidation_0-merror:0.031444\n",
      "[33]\tvalidation_0-merror:0.031444\n",
      "[34]\tvalidation_0-merror:0.031444\n",
      "[35]\tvalidation_0-merror:0.031556\n",
      "[36]\tvalidation_0-merror:0.031556\n",
      "[37]\tvalidation_0-merror:0.031667\n",
      "[38]\tvalidation_0-merror:0.031667\n",
      "[39]\tvalidation_0-merror:0.032\n",
      "[40]\tvalidation_0-merror:0.032\n",
      "[41]\tvalidation_0-merror:0.032\n",
      "[42]\tvalidation_0-merror:0.032222\n",
      "[43]\tvalidation_0-merror:0.031889\n",
      "[44]\tvalidation_0-merror:0.032\n",
      "[45]\tvalidation_0-merror:0.032667\n",
      "[46]\tvalidation_0-merror:0.032333\n",
      "[47]\tvalidation_0-merror:0.032222\n",
      "[48]\tvalidation_0-merror:0.032111\n",
      "[49]\tvalidation_0-merror:0.032222\n",
      "[50]\tvalidation_0-merror:0.032111\n",
      "[51]\tvalidation_0-merror:0.032333\n",
      "[52]\tvalidation_0-merror:0.032\n",
      "[53]\tvalidation_0-merror:0.032667\n",
      "[54]\tvalidation_0-merror:0.032778\n",
      "[55]\tvalidation_0-merror:0.032333\n",
      "[56]\tvalidation_0-merror:0.032222\n",
      "[57]\tvalidation_0-merror:0.032\n",
      "[58]\tvalidation_0-merror:0.032\n",
      "[59]\tvalidation_0-merror:0.031778\n",
      "[60]\tvalidation_0-merror:0.031667\n",
      "[61]\tvalidation_0-merror:0.031444\n",
      "Stopping. Best iteration:\n",
      "[31]\tvalidation_0-merror:0.031333\n",
      "\n",
      "参数的最佳取值：{'learning_rate': 0.2}\n",
      "最佳模型得分:0.9704\n"
     ]
    }
   ],
   "source": [
    "cv_params = {'learning_rate': [0.01,0.02,0.03,0.05,0.1,0.2]}\n",
    "other_params = { 'max_depth': 12, 'subsample': 0.9, 'n_estimators': 300,'min_child_weight':3,\n",
    "'gamma':0.5,'colsample_bytree': 0.9, 'objective': 'multiclass', 'eval_metric': 'merror', 'silent': False, 'nthread': 8,\n",
    "               'learning_rate':0.1,'reg_alpha':0.1,'reg_lambda':0}\n",
    "\n",
    "model = xgb.XGBClassifier(**other_params)\n",
    "optimized_XGB = GridSearchCV(estimator=model, param_grid=cv_params, scoring='accuracy', cv=4, verbose=1, n_jobs=-1)\n",
    "\n",
    "XGB=make_pipeline(RobustScaler(), optimized_XGB)\n",
    "\n",
    "XGB.fit(X_train, Y_train,gridsearchcv__eval_set=[(X_test_,Y_test)]\n",
    "              ,gridsearchcv__eval_metric='merror',gridsearchcv__early_stopping_rounds=30)\n",
    "evalute_result = optimized_XGB.cv_results_\n",
    "#print('每轮迭代运行结果:{0}'.format(evalute_result))\n",
    "print('参数的最佳取值：{0}'.format(optimized_XGB.best_params_))\n",
    "print('最佳模型得分:{0}'.format(optimized_XGB.best_score_))"
   ]
  },
  {
   "cell_type": "code",
   "execution_count": 34,
   "metadata": {
    "scrolled": true
   },
   "outputs": [
    {
     "name": "stdout",
     "output_type": "stream",
     "text": [
      "[0]\tvalidation_0-merror:0.044889\n",
      "Will train until validation_0-merror hasn't improved in 30 rounds.\n",
      "[1]\tvalidation_0-merror:0.045333\n",
      "[2]\tvalidation_0-merror:0.044889\n",
      "[3]\tvalidation_0-merror:0.040778\n",
      "[4]\tvalidation_0-merror:0.039556\n",
      "[5]\tvalidation_0-merror:0.038556\n",
      "[6]\tvalidation_0-merror:0.037111\n",
      "[7]\tvalidation_0-merror:0.037778\n",
      "[8]\tvalidation_0-merror:0.036667\n",
      "[9]\tvalidation_0-merror:0.036889\n",
      "[10]\tvalidation_0-merror:0.036111\n",
      "[11]\tvalidation_0-merror:0.036111\n",
      "[12]\tvalidation_0-merror:0.036556\n",
      "[13]\tvalidation_0-merror:0.036\n",
      "[14]\tvalidation_0-merror:0.035889\n",
      "[15]\tvalidation_0-merror:0.035667\n",
      "[16]\tvalidation_0-merror:0.034556\n",
      "[17]\tvalidation_0-merror:0.034\n",
      "[18]\tvalidation_0-merror:0.034333\n",
      "[19]\tvalidation_0-merror:0.033889\n",
      "[20]\tvalidation_0-merror:0.034556\n",
      "[21]\tvalidation_0-merror:0.033556\n",
      "[22]\tvalidation_0-merror:0.034222\n",
      "[23]\tvalidation_0-merror:0.033889\n",
      "[24]\tvalidation_0-merror:0.033333\n",
      "[25]\tvalidation_0-merror:0.033444\n",
      "[26]\tvalidation_0-merror:0.032778\n",
      "[27]\tvalidation_0-merror:0.033111\n",
      "[28]\tvalidation_0-merror:0.032778\n",
      "[29]\tvalidation_0-merror:0.032889\n",
      "[30]\tvalidation_0-merror:0.032667\n",
      "[31]\tvalidation_0-merror:0.032222\n",
      "[32]\tvalidation_0-merror:0.031778\n",
      "[33]\tvalidation_0-merror:0.032222\n",
      "[34]\tvalidation_0-merror:0.031889\n",
      "[35]\tvalidation_0-merror:0.032333\n",
      "[36]\tvalidation_0-merror:0.032111\n",
      "[37]\tvalidation_0-merror:0.031778\n",
      "[38]\tvalidation_0-merror:0.031556\n",
      "[39]\tvalidation_0-merror:0.031444\n",
      "[40]\tvalidation_0-merror:0.031778\n",
      "[41]\tvalidation_0-merror:0.032333\n",
      "[42]\tvalidation_0-merror:0.032333\n",
      "[43]\tvalidation_0-merror:0.032222\n",
      "[44]\tvalidation_0-merror:0.031889\n",
      "[45]\tvalidation_0-merror:0.031667\n",
      "[46]\tvalidation_0-merror:0.031333\n",
      "[47]\tvalidation_0-merror:0.031333\n",
      "[48]\tvalidation_0-merror:0.031222\n",
      "[49]\tvalidation_0-merror:0.031111\n",
      "[50]\tvalidation_0-merror:0.031333\n",
      "[51]\tvalidation_0-merror:0.031444\n",
      "[52]\tvalidation_0-merror:0.031111\n",
      "[53]\tvalidation_0-merror:0.031\n",
      "[54]\tvalidation_0-merror:0.031\n",
      "[55]\tvalidation_0-merror:0.030889\n",
      "[56]\tvalidation_0-merror:0.031222\n",
      "[57]\tvalidation_0-merror:0.030889\n",
      "[58]\tvalidation_0-merror:0.030444\n",
      "[59]\tvalidation_0-merror:0.030889\n",
      "[60]\tvalidation_0-merror:0.030889\n",
      "[61]\tvalidation_0-merror:0.031\n",
      "[62]\tvalidation_0-merror:0.031222\n",
      "[63]\tvalidation_0-merror:0.031333\n",
      "[64]\tvalidation_0-merror:0.031111\n",
      "[65]\tvalidation_0-merror:0.030889\n",
      "[66]\tvalidation_0-merror:0.031111\n",
      "[67]\tvalidation_0-merror:0.031111\n",
      "[68]\tvalidation_0-merror:0.030889\n",
      "[69]\tvalidation_0-merror:0.030778\n",
      "[70]\tvalidation_0-merror:0.030778\n",
      "[71]\tvalidation_0-merror:0.030667\n",
      "[72]\tvalidation_0-merror:0.030333\n",
      "[73]\tvalidation_0-merror:0.030222\n",
      "[74]\tvalidation_0-merror:0.030333\n",
      "[75]\tvalidation_0-merror:0.030667\n",
      "[76]\tvalidation_0-merror:0.030778\n",
      "[77]\tvalidation_0-merror:0.030556\n",
      "[78]\tvalidation_0-merror:0.030556\n",
      "[79]\tvalidation_0-merror:0.030889\n",
      "[80]\tvalidation_0-merror:0.030667\n",
      "[81]\tvalidation_0-merror:0.030444\n",
      "[82]\tvalidation_0-merror:0.030556\n",
      "[83]\tvalidation_0-merror:0.030444\n",
      "[84]\tvalidation_0-merror:0.030778\n",
      "[85]\tvalidation_0-merror:0.030444\n",
      "[86]\tvalidation_0-merror:0.030667\n",
      "[87]\tvalidation_0-merror:0.030778\n",
      "[88]\tvalidation_0-merror:0.030889\n",
      "[89]\tvalidation_0-merror:0.030889\n",
      "[90]\tvalidation_0-merror:0.030667\n",
      "[91]\tvalidation_0-merror:0.030667\n",
      "[92]\tvalidation_0-merror:0.030556\n",
      "[93]\tvalidation_0-merror:0.030556\n",
      "[94]\tvalidation_0-merror:0.030667\n",
      "[95]\tvalidation_0-merror:0.030556\n",
      "[96]\tvalidation_0-merror:0.030778\n",
      "[97]\tvalidation_0-merror:0.030667\n",
      "[98]\tvalidation_0-merror:0.030778\n",
      "[99]\tvalidation_0-merror:0.030556\n",
      "[100]\tvalidation_0-merror:0.030444\n",
      "[101]\tvalidation_0-merror:0.030556\n",
      "[102]\tvalidation_0-merror:0.030444\n",
      "[103]\tvalidation_0-merror:0.030444\n",
      "Stopping. Best iteration:\n",
      "[73]\tvalidation_0-merror:0.030222\n",
      "\n"
     ]
    }
   ],
   "source": [
    "params = { 'max_depth': 12, 'subsample': 0.9, 'n_estimators': 200,'min_child_weight':3,\n",
    "'gamma':0.5,'colsample_bytree': 0.9, 'objective': 'multiclass', 'eval_metric': 'merror', 'silent': False, 'nthread': 8,\n",
    "               'learning_rate':0.1,'reg_alpha':0.1,'reg_lambda':0}\n",
    "\n",
    "from xgboost import XGBClassifier\n",
    "\n",
    "\n",
    "xgb_ = XGBClassifier(**params)\n",
    "\n",
    "model_xgb = make_pipeline(RobustScaler(),xgb_)\n",
    "\n",
    "model_xgb.fit(X_train,Y_train,xgbclassifier__eval_metric='merror',xgbclassifier__eval_set=[(X_test_,Y_test)],\n",
    "              xgbclassifier__early_stopping_rounds=30)\n",
    "y_pred_xgb=model_xgb.predict(X_test)\n",
    "metrics.accuracy_score(Y_test,y_pred)\n",
    "Y_score_xgb = model_xgb.predict_proba(X_test)"
   ]
  },
  {
   "cell_type": "markdown",
   "metadata": {},
   "source": [
    "对XGB的调参结果：\n",
    "\n",
    "max_depth:12\n",
    "\n",
    "min_child_weight:3\n",
    "\n",
    "gamma:0.5\n",
    "\n",
    "subsample:0.9\n",
    "\n",
    "reg_alpha:0.1\n",
    "\n",
    "reg_lambda:0\n",
    "\n",
    "n_estimators:300\n",
    "\n",
    "learning_rate:0.1\n",
    "\n",
    "在测试集上的准确率为97.1%"
   ]
  },
  {
   "cell_type": "markdown",
   "metadata": {},
   "source": [
    "以下是对lightGBM的调参结果"
   ]
  },
  {
   "cell_type": "code",
   "execution_count": 20,
   "metadata": {},
   "outputs": [
    {
     "name": "stdout",
     "output_type": "stream",
     "text": [
      "Fitting 4 folds for each of 4 candidates, totalling 16 fits\n"
     ]
    },
    {
     "name": "stderr",
     "output_type": "stream",
     "text": [
      "[Parallel(n_jobs=-1)]: Using backend LokyBackend with 4 concurrent workers.\n",
      "[Parallel(n_jobs=-1)]: Done  16 out of  16 | elapsed:   48.0s finished\n"
     ]
    },
    {
     "name": "stdout",
     "output_type": "stream",
     "text": [
      "[1]\tvalid_0's multi_error: 0.116\n",
      "Training until validation scores don't improve for 30 rounds.\n",
      "[2]\tvalid_0's multi_error: 0.0897778\n",
      "[3]\tvalid_0's multi_error: 0.0597778\n",
      "[4]\tvalid_0's multi_error: 0.0585556\n",
      "[5]\tvalid_0's multi_error: 0.0581111\n",
      "[6]\tvalid_0's multi_error: 0.057\n",
      "[7]\tvalid_0's multi_error: 0.0551111\n",
      "[8]\tvalid_0's multi_error: 0.0538889\n",
      "[9]\tvalid_0's multi_error: 0.0535556\n",
      "[10]\tvalid_0's multi_error: 0.0537778\n",
      "[11]\tvalid_0's multi_error: 0.0532222\n",
      "[12]\tvalid_0's multi_error: 0.053\n",
      "[13]\tvalid_0's multi_error: 0.053\n",
      "[14]\tvalid_0's multi_error: 0.0516667\n",
      "[15]\tvalid_0's multi_error: 0.0517778\n",
      "[16]\tvalid_0's multi_error: 0.0508889\n",
      "[17]\tvalid_0's multi_error: 0.0507778\n",
      "[18]\tvalid_0's multi_error: 0.05\n",
      "[19]\tvalid_0's multi_error: 0.0496667\n",
      "[20]\tvalid_0's multi_error: 0.0491111\n",
      "[21]\tvalid_0's multi_error: 0.0492222\n",
      "[22]\tvalid_0's multi_error: 0.0482222\n",
      "[23]\tvalid_0's multi_error: 0.0475556\n",
      "[24]\tvalid_0's multi_error: 0.048\n",
      "[25]\tvalid_0's multi_error: 0.0474444\n",
      "[26]\tvalid_0's multi_error: 0.0474444\n",
      "[27]\tvalid_0's multi_error: 0.0467778\n",
      "[28]\tvalid_0's multi_error: 0.0456667\n",
      "[29]\tvalid_0's multi_error: 0.0455556\n",
      "[30]\tvalid_0's multi_error: 0.0457778\n",
      "[31]\tvalid_0's multi_error: 0.0455556\n",
      "[32]\tvalid_0's multi_error: 0.045\n",
      "[33]\tvalid_0's multi_error: 0.0447778\n",
      "[34]\tvalid_0's multi_error: 0.0443333\n",
      "[35]\tvalid_0's multi_error: 0.044\n",
      "[36]\tvalid_0's multi_error: 0.0437778\n",
      "[37]\tvalid_0's multi_error: 0.044\n",
      "[38]\tvalid_0's multi_error: 0.0441111\n",
      "[39]\tvalid_0's multi_error: 0.0435556\n",
      "[40]\tvalid_0's multi_error: 0.0434444\n",
      "[41]\tvalid_0's multi_error: 0.0422222\n",
      "[42]\tvalid_0's multi_error: 0.0418889\n",
      "[43]\tvalid_0's multi_error: 0.0416667\n",
      "[44]\tvalid_0's multi_error: 0.0411111\n",
      "[45]\tvalid_0's multi_error: 0.0402222\n",
      "[46]\tvalid_0's multi_error: 0.04\n",
      "[47]\tvalid_0's multi_error: 0.0384444\n",
      "[48]\tvalid_0's multi_error: 0.0385556\n",
      "[49]\tvalid_0's multi_error: 0.0384444\n",
      "[50]\tvalid_0's multi_error: 0.0382222\n",
      "[51]\tvalid_0's multi_error: 0.0377778\n",
      "[52]\tvalid_0's multi_error: 0.0371111\n",
      "[53]\tvalid_0's multi_error: 0.0371111\n",
      "[54]\tvalid_0's multi_error: 0.0366667\n",
      "[55]\tvalid_0's multi_error: 0.0362222\n",
      "[56]\tvalid_0's multi_error: 0.0358889\n",
      "[57]\tvalid_0's multi_error: 0.0357778\n",
      "[58]\tvalid_0's multi_error: 0.0356667\n",
      "[59]\tvalid_0's multi_error: 0.0358889\n",
      "[60]\tvalid_0's multi_error: 0.0357778\n",
      "[61]\tvalid_0's multi_error: 0.0355556\n",
      "[62]\tvalid_0's multi_error: 0.0355556\n",
      "[63]\tvalid_0's multi_error: 0.0354444\n",
      "[64]\tvalid_0's multi_error: 0.0348889\n",
      "[65]\tvalid_0's multi_error: 0.0345556\n",
      "[66]\tvalid_0's multi_error: 0.0344444\n",
      "[67]\tvalid_0's multi_error: 0.0343333\n",
      "[68]\tvalid_0's multi_error: 0.0342222\n",
      "[69]\tvalid_0's multi_error: 0.0341111\n",
      "[70]\tvalid_0's multi_error: 0.034\n",
      "[71]\tvalid_0's multi_error: 0.0334444\n",
      "[72]\tvalid_0's multi_error: 0.0337778\n",
      "[73]\tvalid_0's multi_error: 0.0336667\n",
      "[74]\tvalid_0's multi_error: 0.0333333\n",
      "[75]\tvalid_0's multi_error: 0.0334444\n",
      "[76]\tvalid_0's multi_error: 0.0336667\n",
      "[77]\tvalid_0's multi_error: 0.0331111\n",
      "[78]\tvalid_0's multi_error: 0.033\n",
      "[79]\tvalid_0's multi_error: 0.0332222\n",
      "[80]\tvalid_0's multi_error: 0.0331111\n",
      "[81]\tvalid_0's multi_error: 0.033\n",
      "[82]\tvalid_0's multi_error: 0.033\n",
      "[83]\tvalid_0's multi_error: 0.0327778\n",
      "[84]\tvalid_0's multi_error: 0.033\n",
      "[85]\tvalid_0's multi_error: 0.033\n",
      "[86]\tvalid_0's multi_error: 0.0328889\n",
      "[87]\tvalid_0's multi_error: 0.0327778\n",
      "[88]\tvalid_0's multi_error: 0.0327778\n",
      "[89]\tvalid_0's multi_error: 0.0326667\n",
      "[90]\tvalid_0's multi_error: 0.0326667\n",
      "[91]\tvalid_0's multi_error: 0.0327778\n",
      "[92]\tvalid_0's multi_error: 0.0325556\n",
      "[93]\tvalid_0's multi_error: 0.0323333\n",
      "[94]\tvalid_0's multi_error: 0.0322222\n",
      "[95]\tvalid_0's multi_error: 0.0321111\n",
      "[96]\tvalid_0's multi_error: 0.032\n",
      "[97]\tvalid_0's multi_error: 0.0322222\n",
      "[98]\tvalid_0's multi_error: 0.0321111\n",
      "[99]\tvalid_0's multi_error: 0.0321111\n",
      "[100]\tvalid_0's multi_error: 0.0322222\n",
      "[101]\tvalid_0's multi_error: 0.0322222\n",
      "[102]\tvalid_0's multi_error: 0.0322222\n",
      "[103]\tvalid_0's multi_error: 0.0323333\n",
      "[104]\tvalid_0's multi_error: 0.0323333\n",
      "[105]\tvalid_0's multi_error: 0.0324444\n",
      "[106]\tvalid_0's multi_error: 0.0321111\n",
      "[107]\tvalid_0's multi_error: 0.0321111\n",
      "[108]\tvalid_0's multi_error: 0.0321111\n",
      "[109]\tvalid_0's multi_error: 0.0317778\n",
      "[110]\tvalid_0's multi_error: 0.0318889\n",
      "[111]\tvalid_0's multi_error: 0.0318889\n",
      "[112]\tvalid_0's multi_error: 0.0318889\n",
      "[113]\tvalid_0's multi_error: 0.032\n",
      "[114]\tvalid_0's multi_error: 0.032\n",
      "[115]\tvalid_0's multi_error: 0.032\n",
      "[116]\tvalid_0's multi_error: 0.0318889\n",
      "[117]\tvalid_0's multi_error: 0.0317778\n",
      "[118]\tvalid_0's multi_error: 0.0318889\n",
      "[119]\tvalid_0's multi_error: 0.0321111\n",
      "[120]\tvalid_0's multi_error: 0.0321111\n",
      "[121]\tvalid_0's multi_error: 0.0316667\n",
      "[122]\tvalid_0's multi_error: 0.0317778\n",
      "[123]\tvalid_0's multi_error: 0.0317778\n",
      "[124]\tvalid_0's multi_error: 0.0316667\n",
      "[125]\tvalid_0's multi_error: 0.0316667\n",
      "[126]\tvalid_0's multi_error: 0.0315556\n",
      "[127]\tvalid_0's multi_error: 0.0316667\n",
      "[128]\tvalid_0's multi_error: 0.0316667\n",
      "[129]\tvalid_0's multi_error: 0.0316667\n",
      "[130]\tvalid_0's multi_error: 0.0316667\n",
      "[131]\tvalid_0's multi_error: 0.0316667\n",
      "[132]\tvalid_0's multi_error: 0.0316667\n",
      "[133]\tvalid_0's multi_error: 0.0316667\n",
      "[134]\tvalid_0's multi_error: 0.0316667\n",
      "[135]\tvalid_0's multi_error: 0.0317778\n",
      "[136]\tvalid_0's multi_error: 0.0316667\n",
      "[137]\tvalid_0's multi_error: 0.0318889\n",
      "[138]\tvalid_0's multi_error: 0.0318889\n",
      "[139]\tvalid_0's multi_error: 0.0317778\n",
      "[140]\tvalid_0's multi_error: 0.0318889\n",
      "[141]\tvalid_0's multi_error: 0.0317778\n",
      "[142]\tvalid_0's multi_error: 0.0316667\n",
      "[143]\tvalid_0's multi_error: 0.0318889\n",
      "[144]\tvalid_0's multi_error: 0.0317778\n",
      "[145]\tvalid_0's multi_error: 0.0316667\n",
      "[146]\tvalid_0's multi_error: 0.0316667\n",
      "[147]\tvalid_0's multi_error: 0.0316667\n",
      "[148]\tvalid_0's multi_error: 0.0318889\n",
      "[149]\tvalid_0's multi_error: 0.0318889\n",
      "[150]\tvalid_0's multi_error: 0.0318889\n",
      "[151]\tvalid_0's multi_error: 0.0316667\n",
      "[152]\tvalid_0's multi_error: 0.0316667\n",
      "[153]\tvalid_0's multi_error: 0.0314444\n",
      "[154]\tvalid_0's multi_error: 0.0315556\n",
      "[155]\tvalid_0's multi_error: 0.0315556\n",
      "[156]\tvalid_0's multi_error: 0.0315556\n",
      "[157]\tvalid_0's multi_error: 0.0315556\n",
      "[158]\tvalid_0's multi_error: 0.0315556\n",
      "[159]\tvalid_0's multi_error: 0.0315556\n",
      "[160]\tvalid_0's multi_error: 0.0315556\n",
      "[161]\tvalid_0's multi_error: 0.0315556\n",
      "[162]\tvalid_0's multi_error: 0.0315556\n",
      "[163]\tvalid_0's multi_error: 0.0315556\n",
      "[164]\tvalid_0's multi_error: 0.0315556\n",
      "[165]\tvalid_0's multi_error: 0.0315556\n",
      "[166]\tvalid_0's multi_error: 0.0315556\n",
      "[167]\tvalid_0's multi_error: 0.0315556\n",
      "[168]\tvalid_0's multi_error: 0.0315556\n",
      "[169]\tvalid_0's multi_error: 0.0315556\n",
      "[170]\tvalid_0's multi_error: 0.0315556\n",
      "[171]\tvalid_0's multi_error: 0.0315556\n",
      "[172]\tvalid_0's multi_error: 0.0315556\n",
      "[173]\tvalid_0's multi_error: 0.0315556\n",
      "[174]\tvalid_0's multi_error: 0.0315556\n",
      "[175]\tvalid_0's multi_error: 0.0315556\n",
      "[176]\tvalid_0's multi_error: 0.0315556\n",
      "[177]\tvalid_0's multi_error: 0.0315556\n",
      "[178]\tvalid_0's multi_error: 0.0315556\n",
      "[179]\tvalid_0's multi_error: 0.0315556\n",
      "[180]\tvalid_0's multi_error: 0.0315556\n",
      "[181]\tvalid_0's multi_error: 0.0315556\n",
      "[182]\tvalid_0's multi_error: 0.0315556\n",
      "[183]\tvalid_0's multi_error: 0.0315556\n",
      "Early stopping, best iteration is:\n",
      "[153]\tvalid_0's multi_error: 0.0314444\n",
      "参数的最佳取值：{'learning_rate': 0.1}\n",
      "最佳模型得分:0.9692666666666667\n"
     ]
    }
   ],
   "source": [
    "\n",
    "from lightgbm import LGBMClassifier\n",
    "cv_params = {'learning_rate':[0.01,0.02,0.1,0.2]}\n",
    "other_params = {'learning_rate':0.2,\n",
    "                       'max_depth':12,\n",
    "                      'n_estimators':1750,\n",
    "                      'num_leaves':16,\n",
    "                      'reg_alpha':0, \n",
    "                      'reg_lambda':0.7,\n",
    "                      'min_split_gain':1,\n",
    "                      'verbose_eval':200,\n",
    "                      'verbosity':-1,\n",
    "                      'subsample':0.9,\n",
    "                      'min_child_weight':3,\n",
    "                      'colsample_bytree':0.9,\n",
    "                      'min_data_in_leaf':12,\n",
    "                      'subsample_freq':3,\n",
    "                      'num_threads':4,\n",
    "                       'metric':'multi_error'\n",
    "         }\n",
    "model = LGBMClassifier(**other_params)\n",
    "\n",
    "\n",
    "\n",
    "optimized_LGB = GridSearchCV(estimator=model, param_grid=cv_params, scoring='accuracy', cv=4, verbose=2, n_jobs=-1)\n",
    "\n",
    "model = make_pipeline(RobustScaler(),optimized_LGB)\n",
    "\n",
    "model.fit(X_train, Y_train,gridsearchcv__eval_set=[(X_test_,Y_test)]\n",
    "              ,gridsearchcv__early_stopping_rounds=30)\n",
    "evalute_result = optimized_LGB.cv_results_\n",
    "#print('每轮迭代运行结果:{0}'.format(evalute_result))\n",
    "print('参数的最佳取值：{0}'.format(optimized_LGB.best_params_))\n",
    "print('最佳模型得分:{0}'.format(optimized_LGB.best_score_))"
   ]
  },
  {
   "cell_type": "code",
   "execution_count": 35,
   "metadata": {},
   "outputs": [
    {
     "name": "stdout",
     "output_type": "stream",
     "text": [
      "[1]\tvalid_0's multi_error: 0.0923333\tvalid_0's multi_logloss: 1.00142\n",
      "Training until validation scores don't improve for 30 rounds.\n",
      "[2]\tvalid_0's multi_error: 0.0736667\tvalid_0's multi_logloss: 0.905033\n",
      "[3]\tvalid_0's multi_error: 0.0545556\tvalid_0's multi_logloss: 0.812934\n",
      "[4]\tvalid_0's multi_error: 0.0526667\tvalid_0's multi_logloss: 0.733703\n",
      "[5]\tvalid_0's multi_error: 0.0527778\tvalid_0's multi_logloss: 0.675157\n",
      "[6]\tvalid_0's multi_error: 0.0522222\tvalid_0's multi_logloss: 0.616318\n",
      "[7]\tvalid_0's multi_error: 0.0508889\tvalid_0's multi_logloss: 0.563683\n",
      "[8]\tvalid_0's multi_error: 0.0491111\tvalid_0's multi_logloss: 0.52583\n",
      "[9]\tvalid_0's multi_error: 0.048\tvalid_0's multi_logloss: 0.483536\n",
      "[10]\tvalid_0's multi_error: 0.0485556\tvalid_0's multi_logloss: 0.446441\n",
      "[11]\tvalid_0's multi_error: 0.0471111\tvalid_0's multi_logloss: 0.413472\n",
      "[12]\tvalid_0's multi_error: 0.0478889\tvalid_0's multi_logloss: 0.391252\n",
      "[13]\tvalid_0's multi_error: 0.0465556\tvalid_0's multi_logloss: 0.36421\n",
      "[14]\tvalid_0's multi_error: 0.0454444\tvalid_0's multi_logloss: 0.342125\n",
      "[15]\tvalid_0's multi_error: 0.0458889\tvalid_0's multi_logloss: 0.321234\n",
      "[16]\tvalid_0's multi_error: 0.0454444\tvalid_0's multi_logloss: 0.302701\n",
      "[17]\tvalid_0's multi_error: 0.0451111\tvalid_0's multi_logloss: 0.284325\n",
      "[18]\tvalid_0's multi_error: 0.0451111\tvalid_0's multi_logloss: 0.270985\n",
      "[19]\tvalid_0's multi_error: 0.0444444\tvalid_0's multi_logloss: 0.25579\n",
      "[20]\tvalid_0's multi_error: 0.0435556\tvalid_0's multi_logloss: 0.243043\n",
      "[21]\tvalid_0's multi_error: 0.0432222\tvalid_0's multi_logloss: 0.230754\n",
      "[22]\tvalid_0's multi_error: 0.0417778\tvalid_0's multi_logloss: 0.219369\n",
      "[23]\tvalid_0's multi_error: 0.0424444\tvalid_0's multi_logloss: 0.209258\n",
      "[24]\tvalid_0's multi_error: 0.0413333\tvalid_0's multi_logloss: 0.200234\n",
      "[25]\tvalid_0's multi_error: 0.0408889\tvalid_0's multi_logloss: 0.193484\n",
      "[26]\tvalid_0's multi_error: 0.0404444\tvalid_0's multi_logloss: 0.185389\n",
      "[27]\tvalid_0's multi_error: 0.0402222\tvalid_0's multi_logloss: 0.178471\n",
      "[28]\tvalid_0's multi_error: 0.0398889\tvalid_0's multi_logloss: 0.172609\n",
      "[29]\tvalid_0's multi_error: 0.04\tvalid_0's multi_logloss: 0.166847\n",
      "[30]\tvalid_0's multi_error: 0.0398889\tvalid_0's multi_logloss: 0.161316\n",
      "[31]\tvalid_0's multi_error: 0.0385556\tvalid_0's multi_logloss: 0.156223\n",
      "[32]\tvalid_0's multi_error: 0.0381111\tvalid_0's multi_logloss: 0.151495\n",
      "[33]\tvalid_0's multi_error: 0.0378889\tvalid_0's multi_logloss: 0.147411\n",
      "[34]\tvalid_0's multi_error: 0.038\tvalid_0's multi_logloss: 0.143515\n",
      "[35]\tvalid_0's multi_error: 0.0376667\tvalid_0's multi_logloss: 0.14008\n",
      "[36]\tvalid_0's multi_error: 0.0376667\tvalid_0's multi_logloss: 0.137347\n",
      "[37]\tvalid_0's multi_error: 0.0371111\tvalid_0's multi_logloss: 0.134152\n",
      "[38]\tvalid_0's multi_error: 0.0366667\tvalid_0's multi_logloss: 0.131513\n",
      "[39]\tvalid_0's multi_error: 0.0364444\tvalid_0's multi_logloss: 0.128656\n",
      "[40]\tvalid_0's multi_error: 0.0361111\tvalid_0's multi_logloss: 0.126207\n",
      "[41]\tvalid_0's multi_error: 0.0348889\tvalid_0's multi_logloss: 0.123575\n",
      "[42]\tvalid_0's multi_error: 0.0347778\tvalid_0's multi_logloss: 0.121586\n",
      "[43]\tvalid_0's multi_error: 0.034\tvalid_0's multi_logloss: 0.119337\n",
      "[44]\tvalid_0's multi_error: 0.0335556\tvalid_0's multi_logloss: 0.117321\n",
      "[45]\tvalid_0's multi_error: 0.0333333\tvalid_0's multi_logloss: 0.115546\n",
      "[46]\tvalid_0's multi_error: 0.0328889\tvalid_0's multi_logloss: 0.113855\n",
      "[47]\tvalid_0's multi_error: 0.0327778\tvalid_0's multi_logloss: 0.112339\n",
      "[48]\tvalid_0's multi_error: 0.0326667\tvalid_0's multi_logloss: 0.111013\n",
      "[49]\tvalid_0's multi_error: 0.0325556\tvalid_0's multi_logloss: 0.109523\n",
      "[50]\tvalid_0's multi_error: 0.0323333\tvalid_0's multi_logloss: 0.108151\n",
      "[51]\tvalid_0's multi_error: 0.0321111\tvalid_0's multi_logloss: 0.107045\n",
      "[52]\tvalid_0's multi_error: 0.0315556\tvalid_0's multi_logloss: 0.10616\n",
      "[53]\tvalid_0's multi_error: 0.0312222\tvalid_0's multi_logloss: 0.105194\n",
      "[54]\tvalid_0's multi_error: 0.0313333\tvalid_0's multi_logloss: 0.104296\n",
      "[55]\tvalid_0's multi_error: 0.0315556\tvalid_0's multi_logloss: 0.103725\n",
      "[56]\tvalid_0's multi_error: 0.0313333\tvalid_0's multi_logloss: 0.102911\n",
      "[57]\tvalid_0's multi_error: 0.0316667\tvalid_0's multi_logloss: 0.102336\n",
      "[58]\tvalid_0's multi_error: 0.0316667\tvalid_0's multi_logloss: 0.101533\n",
      "[59]\tvalid_0's multi_error: 0.0316667\tvalid_0's multi_logloss: 0.100804\n",
      "[60]\tvalid_0's multi_error: 0.0313333\tvalid_0's multi_logloss: 0.100241\n",
      "[61]\tvalid_0's multi_error: 0.0313333\tvalid_0's multi_logloss: 0.0998279\n",
      "[62]\tvalid_0's multi_error: 0.0313333\tvalid_0's multi_logloss: 0.0994842\n",
      "[63]\tvalid_0's multi_error: 0.0311111\tvalid_0's multi_logloss: 0.09891\n",
      "[64]\tvalid_0's multi_error: 0.0308889\tvalid_0's multi_logloss: 0.0983675\n",
      "[65]\tvalid_0's multi_error: 0.0307778\tvalid_0's multi_logloss: 0.0981052\n",
      "[66]\tvalid_0's multi_error: 0.0307778\tvalid_0's multi_logloss: 0.0977741\n",
      "[67]\tvalid_0's multi_error: 0.0307778\tvalid_0's multi_logloss: 0.0974295\n",
      "[68]\tvalid_0's multi_error: 0.0307778\tvalid_0's multi_logloss: 0.0972528\n",
      "[69]\tvalid_0's multi_error: 0.0304444\tvalid_0's multi_logloss: 0.0969598\n",
      "[70]\tvalid_0's multi_error: 0.0305556\tvalid_0's multi_logloss: 0.0964923\n",
      "[71]\tvalid_0's multi_error: 0.0302222\tvalid_0's multi_logloss: 0.0960752\n",
      "[72]\tvalid_0's multi_error: 0.0301111\tvalid_0's multi_logloss: 0.095739\n",
      "[73]\tvalid_0's multi_error: 0.0297778\tvalid_0's multi_logloss: 0.0954768\n",
      "[74]\tvalid_0's multi_error: 0.0296667\tvalid_0's multi_logloss: 0.0950578\n",
      "[75]\tvalid_0's multi_error: 0.0296667\tvalid_0's multi_logloss: 0.0948388\n",
      "[76]\tvalid_0's multi_error: 0.0298889\tvalid_0's multi_logloss: 0.0946602\n",
      "[77]\tvalid_0's multi_error: 0.0301111\tvalid_0's multi_logloss: 0.0946004\n",
      "[78]\tvalid_0's multi_error: 0.0303333\tvalid_0's multi_logloss: 0.094494\n",
      "[79]\tvalid_0's multi_error: 0.0303333\tvalid_0's multi_logloss: 0.0943861\n",
      "[80]\tvalid_0's multi_error: 0.0304444\tvalid_0's multi_logloss: 0.0943907\n",
      "[81]\tvalid_0's multi_error: 0.0302222\tvalid_0's multi_logloss: 0.0942211\n",
      "[82]\tvalid_0's multi_error: 0.0303333\tvalid_0's multi_logloss: 0.0941392\n",
      "[83]\tvalid_0's multi_error: 0.0303333\tvalid_0's multi_logloss: 0.0940073\n",
      "[84]\tvalid_0's multi_error: 0.0303333\tvalid_0's multi_logloss: 0.0937704\n",
      "[85]\tvalid_0's multi_error: 0.0305556\tvalid_0's multi_logloss: 0.0935972\n",
      "[86]\tvalid_0's multi_error: 0.0304444\tvalid_0's multi_logloss: 0.0935051\n",
      "[87]\tvalid_0's multi_error: 0.0301111\tvalid_0's multi_logloss: 0.0934658\n",
      "[88]\tvalid_0's multi_error: 0.0301111\tvalid_0's multi_logloss: 0.0933615\n",
      "[89]\tvalid_0's multi_error: 0.0302222\tvalid_0's multi_logloss: 0.0933303\n",
      "[90]\tvalid_0's multi_error: 0.0302222\tvalid_0's multi_logloss: 0.0932647\n",
      "[91]\tvalid_0's multi_error: 0.0302222\tvalid_0's multi_logloss: 0.0931809\n",
      "[92]\tvalid_0's multi_error: 0.0298889\tvalid_0's multi_logloss: 0.0930999\n",
      "[93]\tvalid_0's multi_error: 0.0301111\tvalid_0's multi_logloss: 0.0930125\n",
      "[94]\tvalid_0's multi_error: 0.0305556\tvalid_0's multi_logloss: 0.0929801\n",
      "[95]\tvalid_0's multi_error: 0.0303333\tvalid_0's multi_logloss: 0.0929445\n",
      "[96]\tvalid_0's multi_error: 0.0305556\tvalid_0's multi_logloss: 0.0928787\n",
      "[97]\tvalid_0's multi_error: 0.0305556\tvalid_0's multi_logloss: 0.0928875\n",
      "[98]\tvalid_0's multi_error: 0.0306667\tvalid_0's multi_logloss: 0.0927848\n",
      "[99]\tvalid_0's multi_error: 0.0303333\tvalid_0's multi_logloss: 0.09275\n",
      "[100]\tvalid_0's multi_error: 0.0303333\tvalid_0's multi_logloss: 0.0927037\n",
      "[101]\tvalid_0's multi_error: 0.0302222\tvalid_0's multi_logloss: 0.0925957\n",
      "[102]\tvalid_0's multi_error: 0.0303333\tvalid_0's multi_logloss: 0.0925389\n",
      "[103]\tvalid_0's multi_error: 0.0306667\tvalid_0's multi_logloss: 0.0925155\n",
      "[104]\tvalid_0's multi_error: 0.031\tvalid_0's multi_logloss: 0.0925173\n",
      "Early stopping, best iteration is:\n",
      "[74]\tvalid_0's multi_error: 0.0296667\tvalid_0's multi_logloss: 0.0950578\n"
     ]
    }
   ],
   "source": [
    "other_params = {'learning_rate':0.2,\n",
    "                       'max_depth':12,\n",
    "                      'n_estimators':300,\n",
    "                      'num_leaves':16,\n",
    "                      'reg_alpha':0, \n",
    "                      'reg_lambda':0.7,\n",
    "                      'min_split_gain':1,\n",
    "                      'verbose_eval':200,\n",
    "                      'verbosity':-1,\n",
    "                      'subsample':0.9,\n",
    "                      'min_child_weight':3,\n",
    "                      'colsample_bytree':0.9,\n",
    "                      'min_data_in_leaf':12,\n",
    "                      'subsample_freq':3,\n",
    "                      'num_threads':4,\n",
    "                       'metric':'multi_error'\n",
    "         }\n",
    "from lightgbm import LGBMClassifier\n",
    "\n",
    "\n",
    "model_lgb = make_pipeline(RobustScaler(),LGBMClassifier(**params))\n",
    "\n",
    "model_lgb.fit(X_train,Y_train,lgbmclassifier__eval_set=[(X_test_,Y_test)],lgbmclassifier__eval_metric='multi_error',\n",
    "              lgbmclassifier__early_stopping_rounds=30)\n",
    "y_pred_lgb=model_lgb.predict(X_test)\n",
    "metrics.accuracy_score(Y_test,y_pred)\n",
    "Y_score_lgb = model_lgb.predict_proba(X_test)"
   ]
  },
  {
   "cell_type": "markdown",
   "metadata": {},
   "source": [
    "对LGB的调参结果：\n",
    "\n",
    "max_depth:12\n",
    "    \n",
    "num_leaves:16   \n",
    "\n",
    "min_data_in_leaf:12\n",
    "\n",
    "min_child_weight:3\n",
    "\n",
    "colsample_bytree:0.9\n",
    "\n",
    "subsample:0.9\n",
    "\n",
    "reg_alpha:0\n",
    "\n",
    "reg_lambda:0.7\n",
    "\n",
    "learning_rate:0.2\n",
    "\n",
    "n_estimators:300\n",
    "\n",
    "在测试集上的准确率为96.97%"
   ]
  },
  {
   "cell_type": "markdown",
   "metadata": {
    "collapsed": true
   },
   "source": [
    "以下是用随机森林的调参结果"
   ]
  },
  {
   "cell_type": "code",
   "execution_count": 22,
   "metadata": {},
   "outputs": [
    {
     "name": "stdout",
     "output_type": "stream",
     "text": [
      "Fitting 4 folds for each of 7 candidates, totalling 28 fits\n"
     ]
    },
    {
     "name": "stderr",
     "output_type": "stream",
     "text": [
      "[Parallel(n_jobs=-1)]: Using backend LokyBackend with 4 concurrent workers.\n",
      "[Parallel(n_jobs=-1)]: Done  28 out of  28 | elapsed:  8.2min finished\n"
     ]
    },
    {
     "name": "stdout",
     "output_type": "stream",
     "text": [
      "参数的最佳取值：{'max_features': 0.5}\n",
      "最佳模型得分:0.9622\n"
     ]
    }
   ],
   "source": [
    "cv_params = {'max_features': ['auto','sqrt',None,0.5,0.8,0.9,1]}\n",
    "other_params = {'n_estimators':600,\n",
    "               'max_depth':19,\n",
    "               'min_samples_split':2,\n",
    "               'max_features':1}\n",
    "\n",
    "\n",
    "optimized_RF = GridSearchCV(estimator=RandomForestClassifier(**other_params),\n",
    "                                        param_grid=cv_params, scoring='accuracy', cv=4, verbose=2, n_jobs=-1)\n",
    "\n",
    "\n",
    "model = make_pipeline(RobustScaler(), optimized_RF)\n",
    "#model =  RandomForestClassifier(**other_params)\n",
    "\n",
    "#optimized_RF = GridSearchCV(estimator=model, param_grid=cv_params, scoring='accuracy', cv=4, verbose=2, n_jobs=-1)\n",
    "model.fit(X_train, Y_train)\n",
    "evalute_result = optimized_RF.cv_results_\n",
    "#print('每轮迭代运行结果:{0}'.format(evalute_result))\n",
    "print('参数的最佳取值：{0}'.format(optimized_RF.best_params_))\n",
    "print('最佳模型得分:{0}'.format(optimized_RF.best_score_))"
   ]
  },
  {
   "cell_type": "code",
   "execution_count": 36,
   "metadata": {
    "collapsed": true
   },
   "outputs": [],
   "source": [
    "params = {'n_estimators':600,\n",
    "               'max_depth':19,\n",
    "               'min_samples_leaf':1,\n",
    "               'min_samples_split':2,\n",
    "               'max_features':1,\n",
    "               'max_features':0.8,\n",
    "               'n_jobs':-1}\n",
    "\n",
    "model_RF = make_pipeline(RobustScaler(), RandomForestClassifier(**params))\n",
    "\n",
    "model_RF.fit(X_train,Y_train)\n",
    "y_pred_RF = model_RF.predict(X_test)\n",
    "metrics.accuracy_score(Y_test,y_pred)\n",
    "Y_score_RF = model_RF.predict_proba(X_test)"
   ]
  },
  {
   "cell_type": "markdown",
   "metadata": {},
   "source": [
    "随机森林的调参结果：\n",
    "\n",
    "max_depth:19\n",
    "\n",
    "min_samples_leaf:1\n",
    "\n",
    "min_samples_split:2\n",
    "\n",
    "n_estimators:600\n",
    "\n",
    "max_features:0.8\n",
    "\n",
    "测试集上的准确率为96.4%\n",
    "\n",
    "以下是用SVC的调参结果"
   ]
  },
  {
   "cell_type": "code",
   "execution_count": 24,
   "metadata": {},
   "outputs": [
    {
     "name": "stdout",
     "output_type": "stream",
     "text": [
      "Fitting 4 folds for each of 7 candidates, totalling 28 fits\n"
     ]
    },
    {
     "name": "stderr",
     "output_type": "stream",
     "text": [
      "[Parallel(n_jobs=-1)]: Using backend LokyBackend with 4 concurrent workers.\n",
      "[Parallel(n_jobs=-1)]: Done  28 out of  28 | elapsed:   48.9s finished\n"
     ]
    },
    {
     "name": "stdout",
     "output_type": "stream",
     "text": [
      "参数的最佳取值：{'C': 8}\n",
      "最佳模型得分:0.9654666666666667\n"
     ]
    }
   ],
   "source": [
    "cv_params = {'C': [3,4,5,6,7,8,9]}\n",
    "other_params = {'kernel':'rbf',\n",
    "                'gamma':0.4,\n",
    "               'C':3}\n",
    "\n",
    "\n",
    "optimized_SVC = GridSearchCV(estimator=SVC(**other_params),\n",
    "                                        param_grid=cv_params, scoring='accuracy', cv=4, verbose=2, n_jobs=-1)\n",
    "\n",
    "\n",
    "model = make_pipeline(RobustScaler(), optimized_SVC)\n",
    "\n",
    "model.fit(X_train, Y_train)\n",
    "evalute_result = optimized_SVC.cv_results_\n",
    "#print('每轮迭代运行结果:{0}'.format(evalute_result))\n",
    "print('参数的最佳取值：{0}'.format(optimized_SVC.best_params_))\n",
    "print('最佳模型得分:{0}'.format(optimized_SVC.best_score_))"
   ]
  },
  {
   "cell_type": "markdown",
   "metadata": {},
   "source": [
    "SVC 调参结果\n",
    "\n",
    "kernel：rbf\n",
    "\n",
    "gamma:0.4\n",
    "\n",
    "C:3\n",
    "\n",
    "测试集上的准确率为96.4%"
   ]
  },
  {
   "cell_type": "code",
   "execution_count": 37,
   "metadata": {
    "collapsed": true
   },
   "outputs": [],
   "source": [
    "params = {'kernel':'rbf',\n",
    "                'gamma':0.4,\n",
    "               'C':3,\n",
    "         'probability':True\n",
    "         }\n",
    "\n",
    "from sklearn.svm import SVC\n",
    "model_SVC = make_pipeline(RobustScaler(), SVC(**params))\n",
    "\n",
    "model_SVC.fit(X=X_train,y=Y_train)\n",
    "y_pred_SVC = model_SVC.predict(X_test)\n",
    "metrics.accuracy_score(Y_test,y_pred)\n",
    "Y_score_SVC = model_SVC.predict_proba(X_test)"
   ]
  },
  {
   "cell_type": "markdown",
   "metadata": {},
   "source": [
    "\n",
    "最后一步是建立StackingModel，将4种分类器的结果进行融合"
   ]
  },
  {
   "cell_type": "code",
   "execution_count": 32,
   "metadata": {
    "collapsed": true
   },
   "outputs": [],
   "source": [
    "\n",
    "\n",
    "class StackingAveragedModels(BaseEstimator, RegressorMixin, TransformerMixin):\n",
    "    def __init__(self, base_models, meta_model, n_folds=2):\n",
    "        self.base_models = base_models\n",
    "        self.meta_model = meta_model\n",
    "        self.n_folds = n_folds\n",
    "   \n",
    "    # We again fit the data on clones of the original models\n",
    "    def fit(self, X, y):\n",
    "        self.base_models_ = [list() for x in self.base_models]\n",
    "        #print(self.base_models_)\n",
    "        self.meta_model_ = clone(self.meta_model)\n",
    "        kfold = KFold(n_splits=self.n_folds, shuffle=True, random_state=42)\n",
    "        #print(self.meta_model)\n",
    "        # Train cloned base models then create out-of-fold predictions\n",
    "        # that are needed to train the cloned meta-model\n",
    "        out_of_fold_predictions = np.zeros((X.shape[0],3,len(self.base_models)))\n",
    "        \n",
    "        for i, model in enumerate(self.base_models):\n",
    "            for train_index, holdout_index in kfold.split(X, y):\n",
    "                instance = clone(model)\n",
    "                self.base_models_[i].append(instance)\n",
    "                #print(train_index)\n",
    "                instance.fit(X[train_index], y[train_index])\n",
    "                y_pred = instance.predict_proba(X[holdout_index])\n",
    "\n",
    "                out_of_fold_predictions[holdout_index,: , i] = y_pred\n",
    "                \n",
    "        # Now train the cloned  meta-model using the out-of-fold predictions as new feature\n",
    "        out_of_fold_predictions=out_of_fold_predictions.reshape(-1,len(self.base_models)*3)\n",
    "\n",
    "        self.meta_model_.fit(out_of_fold_predictions, y)\n",
    "        return self\n",
    "   \n",
    "    #Do the predictions of all base models on the test data and use the averaged predictions as \n",
    "    #meta-features for the final prediction which is done by the meta-model\n",
    "    def predict(self, X):\n",
    "        \n",
    "        meta_features_ = []\n",
    "        for base_models in self.base_models_:\n",
    "            features=[]\n",
    "            for model in base_models:\n",
    "                feature = model.predict_proba(X)\n",
    "                features.append(feature)\n",
    "            meta_features_.append(np.array((features)).mean(axis=0).T)\n",
    "        meta_features = np.array((meta_features_))\n",
    "        meta_features = meta_features.T.reshape(meta_features.T.shape[0],-1)\n",
    "\n",
    "        return self.meta_model_.predict(meta_features)\n",
    "    \n",
    "    def predict_proba(self, X):\n",
    "        \n",
    "\n",
    "        meta_features_ = []\n",
    "        for base_models in self.base_models_:\n",
    "            features=[]\n",
    "            for model in base_models:\n",
    "                feature = model.predict_proba(X)\n",
    "                features.append(feature)\n",
    "            meta_features_.append(np.array((features)).mean(axis=0).T)\n",
    "        meta_features = np.array((meta_features_))\n",
    "        meta_features = meta_features.T.reshape(meta_features.T.shape[0],-1)\n",
    "\n",
    "        return self.meta_model_.predict_proba(meta_features)\n",
    "        \n",
    "stacked_averaged_models = StackingAveragedModels(base_models = (model_lgb,model_xgb,model_RF,model_SVC),\n",
    "                                                 meta_model = XGBClassifier())\n",
    "\n",
    "\n"
   ]
  },
  {
   "cell_type": "code",
   "execution_count": 38,
   "metadata": {},
   "outputs": [
    {
     "data": {
      "text/plain": [
       "0.9716666666666667"
      ]
     },
     "execution_count": 38,
     "metadata": {},
     "output_type": "execute_result"
    }
   ],
   "source": [
    "stacked_averaged_models.fit(X=X_train,y=Y_train)\n",
    "y_pred_stack = stacked_averaged_models.predict(X_test)\n",
    "Y_score_stack = stacked_averaged_models.predict_proba(X_test)\n",
    "metrics.accuracy_score(Y_test,y_pred)\n"
   ]
  },
  {
   "cell_type": "markdown",
   "metadata": {
    "collapsed": true
   },
   "source": [
    "小结以下4个模型在测试集上的准确率结果。\n",
    "\n",
    "XGBoost：97.1%\n",
    "\n",
    "LightGBM：96.97%\n",
    "\n",
    "RandomForestClassifier：96.4\n",
    "\n",
    "SVC：96.4\n",
    "\n",
    "Stacking：97.17%\n",
    "\n",
    "下一步绘制它们的ROC曲线，比较一下它们的性能。\n",
    "\n",
    "对于多分类绘制ROC曲线，有两种方法。\n",
    "\n",
    ">* 方法1：对于每种类别，都分别绘制ROC曲线，然后再将多条曲线取平均值得到最终的曲线。\n",
    ">* 方法2：假设现在有N个样本，M个类别，则一共有N\\*M个标签和预测值。针对这N\\*M个标签和预测值作ROC曲线\n",
    "\n",
    "对于方法1，没有考虑平衡问题，也就是说将所有类别按照同等权重来处理。对于方法2，是对每一个样本都作处理，也就是说考虑了权重。此处利用方法2来画ROC曲线\n",
    "\n",
    "参考于http://bei.dreamcykj.com/2018/08/19/ROC%E5%8E%9F%E7%90%86%E4%BB%8B%E7%BB%8D%E5%8F%8A%E5%88%A9%E7%94%A8python%E5%AE%9E%E7%8E%B0%E4%BA%8C%E5%88%86%E7%B1%BB%E5%92%8C%E5%A4%9A%E5%88%86%E7%B1%BB%E7%9A%84ROC%E6%9B%B2%E7%BA%BF%20(1)/"
   ]
  },
  {
   "cell_type": "code",
   "execution_count": 30,
   "metadata": {},
   "outputs": [
    {
     "data": {
      "image/png": "[encoded data removed]",
      "text/plain": [
       "<Figure size 432x288 with 1 Axes>"
      ]
     },
     "metadata": {
      "needs_background": "light"
     },
     "output_type": "display_data"
    }
   ],
   "source": [
    "Y_test_=label_binarize(Y_test,classes=[0, 1, 2])\n",
    "\n",
    "fpr_xgb, tpr_xgb, _ = roc_curve(Y_test_.ravel(), Y_score_xgb.ravel())\n",
    "fpr_lgb, tpr_lgb, _ = roc_curve(Y_test_.ravel(), Y_score_lgb.ravel())\n",
    "fpr_RF, tpr_RF, _ = roc_curve(Y_test_.ravel(), Y_score_RF.ravel())\n",
    "fpr_SVC, tpr_SVC, _ = roc_curve(Y_test_.ravel(), Y_score_SVC.ravel())\n",
    "fpr_SVC, tpr_SVC, _ = roc_curve(Y_test_.ravel(), Y_score_SVC.ravel())\n",
    "fpr_stk, tpr_stk, _ = roc_curve(Y_test_.ravel(), Y_score_stack.ravel())\n",
    "\n",
    "\n",
    "\n",
    "plt.figure()\n",
    "\n",
    "plt.plot(fpr_xgb, tpr_xgb,\n",
    "         color='R',label=\"XGB\")\n",
    "plt.plot(fpr_lgb, tpr_lgb,\n",
    "         color='G',label='LGB')\n",
    "plt.plot(fpr_RF, tpr_RF,\n",
    "         color='B',label='RF')\n",
    "plt.plot(fpr_SVC, tpr_SVC,\n",
    "         color='Y',label='SVC')\n",
    "\n",
    "plt.plot(fpr_stk, tpr_stk,\n",
    "         color='black',label='stack')\n",
    "\n",
    "\n",
    "plt.plot([0, 1], [0, 1], 'k--', lw=2)\n",
    "plt.xlim([0.0, 1.0])\n",
    "plt.ylim([0.99, 1.005])\n",
    "plt.xlabel('False Positive Rate')\n",
    "plt.ylabel('True Positive Rate')\n",
    "plt.title('Some extension of Receiver operating characteristic to multi-class')\n",
    "plt.legend(loc=\"lower right\")\n",
    "plt.show()"
   ]
  },
  {
   "cell_type": "markdown",
   "metadata": {},
   "source": [
    "最后绘制XGBoost下的特征重要性，特征对应分别是：\n",
    "\n",
    "f0: P\n",
    "\n",
    "f1: CosTheta\n",
    "\n",
    "f2: CosPhi\n",
    "\n",
    "f3: PH\n",
    "\n",
    "f4: GoodHit\n",
    "\n",
    "f5: Tof\n",
    "\n",
    "f6: E\n",
    "\n",
    "f7: secp\n",
    "\n",
    "可以看到，动量P和极角CosTheta对粒子鉴别的重要性最高。方位角CosPhi和击中数GoodHit对粒子鉴别的贡献最低。"
   ]
  },
  {
   "cell_type": "code",
   "execution_count": 130,
   "metadata": {},
   "outputs": [
    {
     "data": {
      "image/png": "[encoded data removed]",
      "text/plain": [
       "<Figure size 432x648 with 1 Axes>"
      ]
     },
     "metadata": {
      "needs_background": "light"
     },
     "output_type": "display_data"
    }
   ],
   "source": [
    "fig, ax = plt.subplots(figsize=(6,9))\n",
    "xgb.plot_importance(xgb_, height=0.8,ax=ax)\n",
    "plt.show()"
   ]
  },
  {
   "cell_type": "markdown",
   "metadata": {},
   "source": [
    "最后可以看一下各个模型的精确率以及召回率。召回率和精确率一般是对二分类样本而言的，对于多样本的话，有两种计算方式，第一种的话是将所有类别样本混合计算：\n",
    "$$Recall=\\frac{\\Sigma TP}{\\Sigma TP+\\Sigma FP}$$\n",
    "在这种情况下$\\Sigma FP$和$\\Sigma FN$结果是一样的，所以精确率和召回率就一样了。对应在sklearn.metrics.precision_score和sklearn.metrics.recall_score中的average参数为micro。\n",
    "\n",
    "第二种计算方式是分别计算每一类的精确率(召回率)再取平均值，对于sklearn中参数为macro。此处采取第二种方式计算。"
   ]
  },
  {
   "cell_type": "code",
   "execution_count": 138,
   "metadata": {},
   "outputs": [
    {
     "data": {
      "image/png": "[encoded data removed]",
      "text/plain": [
       "<Figure size 432x288 with 1 Axes>"
      ]
     },
     "metadata": {
      "needs_background": "light"
     },
     "output_type": "display_data"
    }
   ],
   "source": [
    "P_score = []\n",
    "P_score.append(metrics.precision_score(Y_test,y_pred_xgb,average='macro'))\n",
    "P_score.append(metrics.precision_score(Y_test,y_pred_lgb,average='macro'))\n",
    "P_score.append(metrics.precision_score(Y_test,y_pred_RF,average='macro'))\n",
    "\n",
    "P_score.append(metrics.precision_score(Y_test,y_pred_SVC,average='macro'))\n",
    "P_score.append(metrics.precision_score(Y_test,y_pred_stack,average='macro'))\n",
    "\n",
    "plt.bar(x=range(0,5),height=P_score)\n",
    "plt.ylim(0.95,0.98)\n",
    "label_list=['XGB','LGB','RF','SVC','Stack']\n",
    "plt.xticks(range(0,5), label_list)\n",
    "plt.title(\"precision_score\")\n",
    "plt.show()"
   ]
  },
  {
   "cell_type": "code",
   "execution_count": 139,
   "metadata": {},
   "outputs": [
    {
     "data": {
      "image/png": "[encoded data removed]",
      "text/plain": [
       "<Figure size 432x288 with 1 Axes>"
      ]
     },
     "metadata": {
      "needs_background": "light"
     },
     "output_type": "display_data"
    }
   ],
   "source": [
    "R_score = []\n",
    "R_score.append(metrics.recall_score(Y_test,y_pred_xgb,average='macro'))\n",
    "R_score.append(metrics.recall_score(Y_test,y_pred_lgb,average='macro'))\n",
    "R_score.append(metrics.recall_score(Y_test,y_pred_RF,average='macro'))\n",
    "\n",
    "R_score.append(metrics.recall_score(Y_test,y_pred_SVC,average='macro'))\n",
    "R_score.append(metrics.recall_score(Y_test,y_pred_stack,average='macro'))\n",
    "plt.bar(x=range(0,5),height=P_score)\n",
    "plt.ylim(0.95,0.98)\n",
    "label_list=['XGB','LGB','RF','SVC','Stack']\n",
    "plt.xticks(range(0,5), label_list)\n",
    "plt.title(\"recall_score\")\n",
    "plt.show()"
   ]
  },
  {
   "cell_type": "markdown",
   "metadata": {},
   "source": [
    "# 总结\n",
    "可以看到，利用集成方法得出的分类准确率(XGB,LGB)会比单一方法(SVC)的准确率高。目前最高的准确率约97.1%。比目前传统方法所用的准确率约高4%。\n",
    "\n",
    "调参以及数据归一化对分类器准确率的影响十分大，在归一化之前，SVC的准确率大概只有90%。\n",
    "\n",
    "\n",
    "\n"
   ]
  },
  {
   "cell_type": "code",
   "execution_count": null,
   "metadata": {
    "collapsed": true
   },
   "outputs": [],
   "source": []
  }
 ],
 "metadata": {
  "kernelspec": {
   "display_name": "Python 3",
   "language": "python",
   "name": "python3"
  },
  "language_info": {
   "codemirror_mode": {
    "name": "ipython",
    "version": 3
   },
   "file_extension": ".py",
   "mimetype": "text/x-python",
   "name": "python",
   "nbconvert_exporter": "python",
   "pygments_lexer": "ipython3",
   "version": "3.7.4"
  }
 },
 "nbformat": 4,
 "nbformat_minor": 2
}
